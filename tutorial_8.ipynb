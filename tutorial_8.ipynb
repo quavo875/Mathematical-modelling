{
 "cells": [
  {
   "cell_type": "code",
   "execution_count": 19,
   "metadata": {},
   "outputs": [],
   "source": [
    "import numpy as numpy\n",
    "import matplotlib.pyplot as plt"
   ]
  },
  {
   "cell_type": "code",
   "execution_count": 20,
   "metadata": {},
   "outputs": [],
   "source": [
    "y1 = lambda t,y : y\n",
    "def asol(t):\n",
    "    numpy.exp(t)"
   ]
  },
  {
   "cell_type": "code",
   "execution_count": 21,
   "metadata": {},
   "outputs": [],
   "source": [
    "import numpy as np\n",
    "yasol = np.vectorize(asol)"
   ]
  },
  {
   "cell_type": "code",
   "execution_count": 22,
   "metadata": {},
   "outputs": [],
   "source": [
    "h = 0.5\n",
    "t0 = 0.0\n",
    "y0 = 1.0\n",
    "t = np.arange(0.0,5.0,h)\n",
    "y = np.zeros(t.size)\n",
    "y[0] = y0"
   ]
  },
  {
   "cell_type": "code",
   "execution_count": 23,
   "metadata": {},
   "outputs": [],
   "source": [
    "for i in range(1,t.size):\n",
    "    y_inter = y[i-1] + h*y1(t[i-1],y[i-1])\n",
    "    y[i] = y[i-1] + (h/2.0)*(y1(t[i-1],y[i-1]) + y1(t[i], y_inter))"
   ]
  },
  {
   "cell_type": "code",
   "execution_count": 24,
   "metadata": {},
   "outputs": [
    {
     "data": {
      "text/plain": [
       "[<matplotlib.lines.Line2D at 0x131b07fd0>,\n",
       " <matplotlib.lines.Line2D at 0x131b07710>]"
      ]
     },
     "execution_count": 24,
     "metadata": {},
     "output_type": "execute_result"
    },
    {
     "data": {
      "image/png": "[encoded data removed]",
      "text/plain": [
       "<Figure size 640x480 with 1 Axes>"
      ]
     },
     "metadata": {},
     "output_type": "display_data"
    }
   ],
   "source": [
    "import matplotlib.pyplot as plt\n",
    "plt.plot(t,y,'r-',t,yasol(t),'b-')"
   ]
  },
  {
   "cell_type": "code",
   "execution_count": 25,
   "metadata": {},
   "outputs": [],
   "source": [
    "dx = 0.05\n",
    "dt = 0.05\n",
    "tmin = 0.0\n",
    "tmax = 2.0\n",
    "xmin = -5.0\n",
    "xmax = 5.0\n",
    "c = 1.0\n",
    "rsq = (c*dt/dx)**2"
   ]
  },
  {
   "cell_type": "code",
   "execution_count": 26,
   "metadata": {},
   "outputs": [],
   "source": [
    "nx = int((xmax-xmin)/dx)+1\n",
    "nt = int((tmax-tmin)/dt)+2\n",
    "u = np.zeros((nt,nx))"
   ]
  },
  {
   "cell_type": "code",
   "execution_count": 27,
   "metadata": {},
   "outputs": [],
   "source": [
    "def init_fx(x):\n",
    "    val = np.exp(-(x**2)/0.25)\n",
    "    if val < 0.001:\n",
    "        return 0.0\n",
    "    else:\n",
    "        return val"
   ]
  },
  {
   "cell_type": "code",
   "execution_count": 28,
   "metadata": {},
   "outputs": [],
   "source": [
    "for a in range(0,nx):\n",
    "    u[0,a] = init_fx(xmin + a*dx)\n",
    "    u[1,a] = u[0,a]"
   ]
  },
  {
   "cell_type": "code",
   "execution_count": 29,
   "metadata": {},
   "outputs": [
    {
     "ename": "SyntaxError",
     "evalue": "incomplete input (3173306022.py, line 2)",
     "output_type": "error",
     "traceback": [
      "\u001b[0;36m  Cell \u001b[0;32mIn[29], line 2\u001b[0;36m\u001b[0m\n\u001b[0;31m    for a in range(1,nx-1):\u001b[0m\n\u001b[0m                           ^\u001b[0m\n\u001b[0;31mSyntaxError\u001b[0m\u001b[0;31m:\u001b[0m incomplete input\n"
     ]
    }
   ],
   "source": [
    "for t in range(1,nt-1):\n",
    "    for a in range(1,nx-1):"
   ]
  }
 ],
 "metadata": {
  "kernelspec": {
   "display_name": "Python 3",
   "language": "python",
   "name": "python3"
  },
  "language_info": {
   "codemirror_mode": {
    "name": "ipython",
    "version": 3
   },
   "file_extension": ".py",
   "mimetype": "text/x-python",
   "name": "python",
   "nbconvert_exporter": "python",
   "pygments_lexer": "ipython3",
   "version": "3.11.0"
  }
 },
 "nbformat": 4,
 "nbformat_minor": 2
}
